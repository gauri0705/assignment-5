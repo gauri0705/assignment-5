{
 "cells": [
  {
   "cell_type": "code",
   "execution_count": 10,
   "id": "31354448",
   "metadata": {},
   "outputs": [
    {
     "name": "stdout",
     "output_type": "stream",
     "text": [
      "square of first no= 1\n",
      "square of second no= 9\n",
      "square of third no= 25\n",
      "sum of all number= 35\n"
     ]
    }
   ],
   "source": [
    "#Challenge 1: Square Numbers and Return Their Sum\n",
    "class Point:\n",
    "\n",
    "    def __init__(self,x,y,z):\n",
    "        self.x = x\n",
    "        self.y = y\n",
    "        self.z = z\n",
    "    def square1(self):\n",
    "        return self.x*self.x\n",
    "    def square2(self):\n",
    "        return self.y*self.y\n",
    "    def square3(self):\n",
    "        return self.z*self.z\n",
    "    def sqSum(self):\n",
    "        return (self.x*self.x)+(self.y*self.y)+(self.z*self.z)\n",
    "    pass\n",
    "p=Point(1,3,5)\n",
    "print(\"square of first no=\",p.square1())\n",
    "print(\"square of second no=\",p.square2())\n",
    "print(\"square of third no=\",p.square3())\n",
    "print(\"sum of all number=\",p.sqSum())\n",
    "\n",
    "            "
   ]
  },
  {
   "cell_type": "code",
   "execution_count": 1,
   "id": "b318e5d4",
   "metadata": {},
   "outputs": [
    {
     "name": "stdout",
     "output_type": "stream",
     "text": [
      "The addition is= 104\n",
      "The subtraction is= 84\n",
      "The multiplication is= 940\n",
      "The division is= 9.4\n"
     ]
    }
   ],
   "source": [
    "#Challenge 2: Implement a Calculator Class\n",
    "class Calculator:\n",
    "\n",
    "    def __init__(self,num1,num2):\n",
    "        self.num1=num1\n",
    "        self.num2=num2\n",
    "    def add(self):\n",
    "        return self.num2+self.num1\n",
    "    def subtract(self):\n",
    "        return self.num2-self.num1\n",
    "    def multiply(self):\n",
    "        return self.num2*self.num1\n",
    "    def divide(self):\n",
    "        return self.num2/self.num1\n",
    "x=Calculator(10,94)\n",
    "print(\"The addition is=\",x.add())\n",
    "print(\"The subtraction is=\",x.subtract())\n",
    "print(\"The multiplication is=\",x.multiply())\n",
    "print(\"The division is=\",x.divide())"
   ]
  },
  {
   "cell_type": "code",
   "execution_count": 2,
   "id": "920223bd",
   "metadata": {},
   "outputs": [
    {
     "name": "stdout",
     "output_type": "stream",
     "text": [
      "getter method\n",
      "gauri\n",
      "setter method\n",
      "getter method\n",
      "89\n"
     ]
    }
   ],
   "source": [
    "#challenge 3\n",
    "class Student:\n",
    "    def init(self,name,rollno):\n",
    "        self.name=name\n",
    "        self.rollno=rollno\n",
    "        print(f\"name:{self.name}\\nrollno:{self.rollno}\")\n",
    "    def setName(self,name):\n",
    "        self.name=name\n",
    "        \n",
    "    def getName(self):\n",
    "        print(\"getter method\")\n",
    "        return self.name\n",
    "        \n",
    "    def setRollNumber(self,rollno):\n",
    "        print(\"setter method\")\n",
    "        self.rollno=rollno\n",
    "        \n",
    "    \n",
    "    def getRollNumber(self):\n",
    "        print(\"getter method\")\n",
    "        return self.rollno\n",
    "        \n",
    "s=Student()\n",
    "(s.setName(\"gauri\"))\n",
    "print((s.getName()))\n",
    "(s.setRollNumber(89))\n",
    "print((s.getRollNumber()))"
   ]
  },
  {
   "cell_type": "code",
   "execution_count": 1,
   "id": "984a371a",
   "metadata": {},
   "outputs": [
    {
     "name": "stdout",
     "output_type": "stream",
     "text": [
      "Ashish\n",
      "5000\n",
      "5\n"
     ]
    }
   ],
   "source": [
    "#Challenge 4: Implement a Banking Account\n",
    "class Account:\n",
    "    def __init__(self,title,balance,interestrate):\n",
    "        self.title=title\n",
    "        self.balance=balance\n",
    "        self.interestrate=interestrate\n",
    "\n",
    "class SavingsAccount(Account):\n",
    "    def __init__(self,title,balance,interestrate):\n",
    "        super().__init__(title,balance,interestrate)\n",
    "    def userdetail(self):\n",
    "        print(\"username is=\",self.title)\n",
    "        print(\"balance is=\",self.balance)\n",
    "        print(\"interest rate is=\",self.interestrate)\n",
    "        pass\n",
    "s=SavingsAccount(\"Ashish\",5000,5)\n",
    "print(s.title)\n",
    "print(s.balance)\n",
    "print(s.interestrate)\n",
    "    "
   ]
  },
  {
   "cell_type": "code",
   "execution_count": 3,
   "id": "d17bb34e",
   "metadata": {},
   "outputs": [
    {
     "name": "stdout",
     "output_type": "stream",
     "text": [
      "name is= ashish\n",
      "balance is= 2000\n",
      "interest is= 100.0\n"
     ]
    }
   ],
   "source": [
    "#Challenge 5: Handling a Bank Account\n",
    "import sys\n",
    "class Account:\n",
    "    def __init__(self, title=None, balance=0):\n",
    "        self.title = title\n",
    "        self.balance = balance\n",
    "    \n",
    "    def withdrawal(self, amount):\n",
    "        if amount>self.balance:\n",
    "            print(\"balance is insufficient we cannot process your request.....\")\n",
    "            sys.exit()\n",
    "        self.balance=self.balance-amount\n",
    "        print(\"balance amount after withdrawel=\",self.balance)\n",
    "        \n",
    "\n",
    "    def deposit(self, amount):\n",
    "        self.balance=self.balance+amount\n",
    "        print(\"balance after deposite\",self.balance)\n",
    "        \n",
    "    def getBalance(self):\n",
    "        print(\"available balance=\",self.balance)\n",
    "        \n",
    "\n",
    "class SavingsAccount(Account):\n",
    "    def __init__(self, title=None, balance=0, interestRate=0):\n",
    "            super().__init__(title, balance)\n",
    "            self.interestRate = interestRate\n",
    "    def userdetail(self):\n",
    "        print(\"username is=\",self.title)\n",
    "        print(\"balance is=\",self.balance)\n",
    "        print(\"interest rate is=\",self.interestrate)\n",
    "        \n",
    "    \n",
    "    def interestAmount(self):\n",
    "        return (self.interestRate*self.balance)/100\n",
    "        \n",
    "\n",
    "demo1 = SavingsAccount(\"ashish\",2000,5)   \n",
    "print(\"name is=\",demo1.title)\n",
    "print(\"balance is=\",demo1.balance)\n",
    "print(\"interest is=\",demo1.interestAmount())\n",
    "\n",
    "\n",
    "            \n",
    "\n",
    "    "
   ]
  },
  {
   "cell_type": "code",
   "execution_count": null,
   "id": "016b80d5",
   "metadata": {},
   "outputs": [],
   "source": []
  }
 ],
 "metadata": {
  "kernelspec": {
   "display_name": "Python 3 (ipykernel)",
   "language": "python",
   "name": "python3"
  },
  "language_info": {
   "codemirror_mode": {
    "name": "ipython",
    "version": 3
   },
   "file_extension": ".py",
   "mimetype": "text/x-python",
   "name": "python",
   "nbconvert_exporter": "python",
   "pygments_lexer": "ipython3",
   "version": "3.9.13"
  }
 },
 "nbformat": 4,
 "nbformat_minor": 5
}
